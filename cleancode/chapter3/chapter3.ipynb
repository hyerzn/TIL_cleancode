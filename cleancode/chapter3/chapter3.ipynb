{
 "cells": [
  {
   "cell_type": "markdown",
   "metadata": {},
   "source": [
    "1. 상속의 좋은 예 - http.server (p.120)"
   ]
  },
  {
   "cell_type": "code",
   "execution_count": 1,
   "metadata": {},
   "outputs": [],
   "source": [
    "#https://docs.python.org/3/library/http.server.html#http.server.BaseHTTPRequestHandler\n",
    "\n",
    "# class http.server.BaseHTTPRequestHandler(request, client_address, server)\n",
    "# This class is used to handle the HTTP requests that arrive at the server.\n",
    "# By itself, it cannot respond to any actual HTTP requests;\n",
    "# it must be subclassed to handle each request method (e.g. GET or POST). \n",
    "# BaseHTTPRequestHandler provides a number of class and instance variables, and methods for use by subclasses.\n"
   ]
  },
  {
   "cell_type": "code",
   "execution_count": 2,
   "metadata": {},
   "outputs": [],
   "source": [
    "from http.server import BaseHTTPRequestHandler\n",
    "\n",
    "class MyHandler(BaseHTTPRequestHandler):\n",
    "    \"\"\"\n",
    "    역할: HTTP 요청을 처리하는 데 필요한 기본적인 메커니즘을 제공하는 추상 클래스입니다.\n",
    "    \"\"\"\n",
    "    def do_GET(self):\n",
    "        self.send_response(200)\n",
    "        self.send_header('Content-type', 'text/html')\n",
    "        self.end_headers()\n",
    "        self.wfile.write(b'Hello, world!')"
   ]
  },
  {
   "cell_type": "code",
   "execution_count": 4,
   "metadata": {},
   "outputs": [],
   "source": [
    "from http.server import SimpleHTTPRequestHandler, HTTPServer\n",
    "\n",
    "def run(server_class=HTTPServer, handler_class=BaseHTTPRequestHandler):\n",
    "    server_address = ('', 8000)\n",
    "    httpd = server_class(server_address, handler_class)\n",
    "    # httpd.serve_forever()"
   ]
  },
  {
   "cell_type": "code",
   "execution_count": 1,
   "metadata": {},
   "outputs": [
    {
     "name": "stdout",
     "output_type": "stream",
     "text": [
      "serving at port 8000\n"
     ]
    }
   ],
   "source": [
    "import http.server\n",
    "import socketserver\n",
    "\n",
    "PORT = 8000\n",
    "\n",
    "Handler = http.server.SimpleHTTPRequestHandler\n",
    "\n",
    "with socketserver.TCPServer((\"\", PORT), Handler) as httpd:\n",
    "    print(\"serving at port\", PORT)\n",
    "    # httpd.serve_forever()"
   ]
  },
  {
   "cell_type": "markdown",
   "metadata": {},
   "source": [
    "2. 상속의 좋은 예 - Exception (p.121)<br>\n",
    "https://docs.python.org/ko/3/library/exceptions.html#exception-hierarchy"
   ]
  },
  {
   "cell_type": "markdown",
   "metadata": {},
   "source": [
    "3. 구현객체 vs 도메인객체\n"
   ]
  },
  {
   "cell_type": "code",
   "execution_count": 2,
   "metadata": {},
   "outputs": [],
   "source": [
    "# 도메인 객체\n",
    "class Customer:\n",
    "    def __init__(self, id, name):\n",
    "        self.id = id\n",
    "        self.name = name\n",
    "\n",
    "    def change_name(self, new_name):\n",
    "        self.name = new_name\n",
    "\n",
    "# 구현 객체 (데이터베이스 접근 객체)\n",
    "class CustomerRepository:\n",
    "    def __init__(self, db_connection):\n",
    "        self.db_connection = db_connection\n",
    "\n",
    "    def save(self, customer):\n",
    "        # 도메인 객체의 데이터를 데이터베이스에 저장\n",
    "        # 이 부분은 기술적 세부 사항에 해당\n",
    "        pass\n",
    "\n",
    "    def load(self, customer_id):\n",
    "        # 데이터베이스에서 도메인 객체를 로드\n",
    "        # 이 부분은 기술적 세부 사항에 해당\n",
    "        pass"
   ]
  },
  {
   "cell_type": "markdown",
   "metadata": {},
   "source": [
    "4. 상속 vs 컴포지션"
   ]
  },
  {
   "cell_type": "markdown",
   "metadata": {},
   "source": [
    "컴포지션 vs 상속\n",
    "상속:\n",
    "\"is-a\" 관계 (예: Dog는 Animal이다)\n",
    "서브클래스가 슈퍼클래스의 모든 특성과 동작을 상속받는다\n",
    "유연성이 낮고, 상위 클래스의 변경이 서브클래스에 영향을 줄 수 있다\n",
    "컴포지션:\n",
    "\"has-a\" 관계 (예: Car는 Engine을 가진다)\n",
    "객체가 다른 객체를 포함하여 기능을 구현한다\n",
    "유연하고, 객체를 독립적으로 변경할 수 있으며, 변경이 다른 객체에 미치는 영향을 줄인다"
   ]
  },
  {
   "cell_type": "markdown",
   "metadata": {},
   "source": [
    "5. 다중 상속"
   ]
  },
  {
   "cell_type": "code",
   "execution_count": 5,
   "metadata": {},
   "outputs": [
    {
     "name": "stdout",
     "output_type": "stream",
     "text": [
      "FatherA\n"
     ]
    }
   ],
   "source": [
    "class GrandFather:\n",
    "    def my_method(self):\n",
    "        print(\"GrandFather\")\n",
    "\n",
    "class FatherA(GrandFather):\n",
    "    def my_method(self):\n",
    "        print(\"FatherA\")\n",
    "\n",
    "class FatherB(GrandFather):\n",
    "    def my_method(self):\n",
    "        print(\"FatherB\")\n",
    "\n",
    "class Son(FatherA, FatherB):\n",
    "    def my_method(self):\n",
    "        super().my_method()  # 호출할 메서드를 결정하는 것은 MRO에 의해 결정됨\n",
    "\n",
    "# 사용 예\n",
    "son = Son()\n",
    "son.my_method()\n"
   ]
  },
  {
   "cell_type": "markdown",
   "metadata": {},
   "source": [
    "6. 믹스인"
   ]
  },
  {
   "cell_type": "code",
   "execution_count": 9,
   "metadata": {},
   "outputs": [
    {
     "data": {
      "text/plain": [
       "['28a2301aaa', 'adfsfd']"
      ]
     },
     "execution_count": 9,
     "metadata": {},
     "output_type": "execute_result"
    }
   ],
   "source": [
    "class BaseTokenizer:\n",
    "    def __init__(self, str_token):\n",
    "        self.str_token = str_token\n",
    "\n",
    "    def __iter__(self):\n",
    "        yield from self.str_token.split(\"-\")\n",
    "\n",
    "tk = BaseTokenizer(\"28a2301aaa-adfsfd\")\n",
    "list(tk)"
   ]
  },
  {
   "cell_type": "code",
   "execution_count": 11,
   "metadata": {},
   "outputs": [],
   "source": [
    "class UpperIterableMixin:\n",
    "    def __iter__(self):\n",
    "        return map(str.upper, super().__iter__())\n",
    "\n",
    "class Tokenizer(UpperIterableMixin, BaseTokenizer):\n",
    "    pass"
   ]
  },
  {
   "cell_type": "code",
   "execution_count": 12,
   "metadata": {},
   "outputs": [
    {
     "data": {
      "text/plain": [
       "['28A2301AAA', 'ADFSFD']"
      ]
     },
     "execution_count": 12,
     "metadata": {},
     "output_type": "execute_result"
    }
   ],
   "source": [
    "tk = Tokenizer(\"28a2301aaa-adfsfd\")\n",
    "list(tk)"
   ]
  },
  {
   "cell_type": "markdown",
   "metadata": {},
   "source": [
    "7. 가변인자"
   ]
  },
  {
   "cell_type": "code",
   "execution_count": 13,
   "metadata": {},
   "outputs": [],
   "source": [
    "def show(e, rest):\n",
    "    print(\"요소: {0} - 나머지: {1}\".format(e, rest))"
   ]
  },
  {
   "cell_type": "code",
   "execution_count": 14,
   "metadata": {},
   "outputs": [
    {
     "name": "stdout",
     "output_type": "stream",
     "text": [
      "요소: 1 - 나머지: [2, 3, 4, 5]\n"
     ]
    }
   ],
   "source": [
    "first, *rest = [1, 2, 3, 4, 5]\n",
    "show(first, rest)"
   ]
  },
  {
   "cell_type": "code",
   "execution_count": 16,
   "metadata": {},
   "outputs": [
    {
     "name": "stdout",
     "output_type": "stream",
     "text": [
      "요소: 5 - 나머지: [0, 1, 2, 3, 4]\n"
     ]
    }
   ],
   "source": [
    "*rest, last = range(6)\n",
    "show(last, rest)"
   ]
  },
  {
   "cell_type": "code",
   "execution_count": 17,
   "metadata": {},
   "outputs": [
    {
     "name": "stdout",
     "output_type": "stream",
     "text": [
      "0\n",
      "[1, 2, 3, 4]\n",
      "5\n"
     ]
    }
   ],
   "source": [
    "first, *middle, last = range(6)\n",
    "print(first)\n",
    "print(middle)\n",
    "print(last)"
   ]
  },
  {
   "cell_type": "code",
   "execution_count": 18,
   "metadata": {},
   "outputs": [
    {
     "name": "stdout",
     "output_type": "stream",
     "text": [
      "1\n",
      "2\n",
      "[]\n"
     ]
    }
   ],
   "source": [
    "first, last, *empty = 1, 2\n",
    "print(first)\n",
    "print(last)\n",
    "print(empty)"
   ]
  },
  {
   "cell_type": "markdown",
   "metadata": {},
   "source": []
  }
 ],
 "metadata": {
  "kernelspec": {
   "display_name": ".venv",
   "language": "python",
   "name": "python3"
  },
  "language_info": {
   "codemirror_mode": {
    "name": "ipython",
    "version": 3
   },
   "file_extension": ".py",
   "mimetype": "text/x-python",
   "name": "python",
   "nbconvert_exporter": "python",
   "pygments_lexer": "ipython3",
   "version": "3.11.6"
  }
 },
 "nbformat": 4,
 "nbformat_minor": 2
}
